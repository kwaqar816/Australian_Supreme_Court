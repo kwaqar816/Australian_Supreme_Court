{
 "cells": [
  {
   "cell_type": "code",
   "execution_count": 14,
   "metadata": {},
   "outputs": [],
   "source": [
    "import datetime\n",
    "from datetime import timedelta, date"
   ]
  },
  {
   "cell_type": "code",
   "execution_count": 15,
   "metadata": {},
   "outputs": [],
   "source": [
    "start_date = datetime.datetime(2021, 1, 1).date()\n",
    "end_date = datetime.datetime(2021, 1, 10).date()\n",
    "delta = timedelta(days=1)"
   ]
  },
  {
   "cell_type": "code",
   "execution_count": 17,
   "metadata": {},
   "outputs": [
    {
     "name": "stdout",
     "output_type": "stream",
     "text": [
      "2021-01-01 Friday\n",
      "2021-01-02 Saturday\n",
      "2021-01-03 Sunday\n",
      "2021-01-04 Monday\n",
      "2021-01-05 Tuesday\n",
      "2021-01-06 Wednesday\n",
      "2021-01-07 Thursday\n",
      "2021-01-08 Friday\n",
      "2021-01-09 Saturday\n",
      "2021-01-10 Sunday\n"
     ]
    }
   ],
   "source": [
    "len_of_date = []\n",
    "while start_date <= end_date:\n",
    "    day = start_date.strftime('%d')\n",
    "    month = start_date.strftime('%m')\n",
    "    year = start_date.strftime('%Y')\n",
    "    day_name = datetime.date(int(year) , int(month) , int(day))\n",
    "    d_n = day_name.strftime(\"%A\")\n",
    "    print(start_date , d_n)\n",
    "\n",
    "    start_date += delta\n"
   ]
  }
 ],
 "metadata": {
  "kernelspec": {
   "display_name": "Python 3.9.2 64-bit",
   "language": "python",
   "name": "python3"
  },
  "language_info": {
   "codemirror_mode": {
    "name": "ipython",
    "version": 3
   },
   "file_extension": ".py",
   "mimetype": "text/x-python",
   "name": "python",
   "nbconvert_exporter": "python",
   "pygments_lexer": "ipython3",
   "version": "3.9.2"
  },
  "orig_nbformat": 4,
  "vscode": {
   "interpreter": {
    "hash": "ddfb34d1754134c9cc3a6bb01d0fdb10d2ef009386293db1167f918d390ec7ec"
   }
  }
 },
 "nbformat": 4,
 "nbformat_minor": 2
}
